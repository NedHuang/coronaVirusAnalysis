{
 "cells": [
  {
   "cell_type": "code",
   "execution_count": 208,
   "metadata": {},
   "outputs": [
    {
     "ename": "ModuleNotFoundError",
     "evalue": "No module named 'geopandas'",
     "output_type": "error",
     "traceback": [
      "\u001b[1;31m---------------------------------------------------------------------------\u001b[0m",
      "\u001b[1;31mModuleNotFoundError\u001b[0m                       Traceback (most recent call last)",
      "\u001b[1;32m<ipython-input-208-64fbfdb1828f>\u001b[0m in \u001b[0;36m<module>\u001b[1;34m\u001b[0m\n\u001b[0;32m      2\u001b[0m \u001b[1;32mimport\u001b[0m \u001b[0mpandas\u001b[0m \u001b[1;32mas\u001b[0m \u001b[0mpd\u001b[0m\u001b[1;33m\u001b[0m\u001b[1;33m\u001b[0m\u001b[0m\n\u001b[0;32m      3\u001b[0m \u001b[1;32mimport\u001b[0m \u001b[0mmatplotlib\u001b[0m\u001b[1;33m.\u001b[0m\u001b[0mpyplot\u001b[0m \u001b[1;32mas\u001b[0m \u001b[0mplt\u001b[0m\u001b[1;33m\u001b[0m\u001b[1;33m\u001b[0m\u001b[0m\n\u001b[1;32m----> 4\u001b[1;33m \u001b[1;32mimport\u001b[0m \u001b[0mgeopandas\u001b[0m \u001b[1;32mas\u001b[0m \u001b[0mgpd\u001b[0m\u001b[1;33m\u001b[0m\u001b[1;33m\u001b[0m\u001b[0m\n\u001b[0m\u001b[0;32m      5\u001b[0m \u001b[1;32mimport\u001b[0m \u001b[0mseaborn\u001b[0m \u001b[1;32mas\u001b[0m \u001b[0msns\u001b[0m\u001b[1;33m\u001b[0m\u001b[1;33m\u001b[0m\u001b[0m\n\u001b[0;32m      6\u001b[0m \u001b[1;32mfrom\u001b[0m \u001b[0mshapely\u001b[0m\u001b[1;33m.\u001b[0m\u001b[0mgeometry\u001b[0m \u001b[1;32mimport\u001b[0m \u001b[0mPoint\u001b[0m\u001b[1;33m,\u001b[0m \u001b[0mPolygon\u001b[0m\u001b[1;33m\u001b[0m\u001b[1;33m\u001b[0m\u001b[0m\n",
      "\u001b[1;31mModuleNotFoundError\u001b[0m: No module named 'geopandas'"
     ]
    }
   ],
   "source": [
    "import numpy as np\n",
    "import pandas as pd\n",
    "import matplotlib.pyplot as plt\n",
    "import geopandas as gpd\n",
    "import seaborn as sns\n",
    "from shapely.geometry import Point, Polygon\n",
    "import statistics\n",
    "\n",
    "\n",
    "\n",
    "#reading data from the csv file\n",
    "data1 = pd.read_csv(\"COVID19_line_list_data.csv\")\n",
    "data2 = pd.read_csv(\"time_series_covid_19_confirmed.csv\")\n"
   ]
  },
  {
   "cell_type": "code",
   "execution_count": 28,
   "metadata": {},
   "outputs": [
    {
     "data": {
      "text/plain": [
       "<bound method NDFrame.head of     Province/State    Country/Region      Lat      Long  1/22/20  1/23/20  \\\n",
       "0              NaN          Thailand  15.0000  101.0000        2        3   \n",
       "1              NaN             Japan  36.0000  138.0000        2        1   \n",
       "2              NaN         Singapore   1.2833  103.8333        0        1   \n",
       "3              NaN             Nepal  28.1667   84.2500        0        0   \n",
       "4              NaN          Malaysia   2.5000  112.5000        0        0   \n",
       "..             ...               ...      ...       ...      ...      ...   \n",
       "472   Sint Maarten       Netherlands  18.0425  -63.0548        0        0   \n",
       "473            NaN             Niger  17.6078    8.0817        0        0   \n",
       "474            NaN  Papua New Guinea  -6.3150  143.9555        0        0   \n",
       "475    Isle of Man    United Kingdom  54.2361   -4.5481        0        0   \n",
       "476            NaN          Zimbabwe -20.0000   30.0000        0        0   \n",
       "\n",
       "     1/24/20  1/25/20  1/26/20  1/27/20  ...  3/11/20  3/12/20  3/13/20  \\\n",
       "0          5        7        8        8  ...       59       70       75   \n",
       "1          2        2        4        4  ...      639      639      701   \n",
       "2          3        3        4        5  ...      178      178      200   \n",
       "3          0        1        1        1  ...        1        1        1   \n",
       "4          0        3        4        4  ...      149      149      197   \n",
       "..       ...      ...      ...      ...  ...      ...      ...      ...   \n",
       "472        0        0        0        0  ...        0        0        0   \n",
       "473        0        0        0        0  ...        0        0        0   \n",
       "474        0        0        0        0  ...        0        0        0   \n",
       "475        0        0        0        0  ...        0        0        0   \n",
       "476        0        0        0        0  ...        0        0        0   \n",
       "\n",
       "     3/14/20  3/15/20  3/16/20  3/17/20  3/18/20  3/19/20  3/20/20  \n",
       "0         82      114      147      177      212      272      322  \n",
       "1        773      839      825      878      889      924      963  \n",
       "2        212      226      243      266      313      345      385  \n",
       "3          1        1        1        1        1        1        1  \n",
       "4        238      428      566      673      790      900     1030  \n",
       "..       ...      ...      ...      ...      ...      ...      ...  \n",
       "472        0        0        0        0        0        0        1  \n",
       "473        0        0        0        0        0        0        1  \n",
       "474        0        0        0        0        0        0        1  \n",
       "475        0        0        0        0        0        0        1  \n",
       "476        0        0        0        0        0        0        1  \n",
       "\n",
       "[477 rows x 63 columns]>"
      ]
     },
     "execution_count": 28,
     "metadata": {},
     "output_type": "execute_result"
    }
   ],
   "source": [
    "data2.head"
   ]
  },
  {
   "cell_type": "code",
   "execution_count": 207,
   "metadata": {},
   "outputs": [
    {
     "data": {
      "text/plain": [
       "154    48206\n",
       "Name: 2/13/20, dtype: int64"
      ]
     },
     "execution_count": 207,
     "metadata": {},
     "output_type": "execute_result"
    }
   ],
   "source": [
    "data2.loc[data2['Province/State'] == 'Hubei','2/13/20']"
   ]
  },
  {
   "cell_type": "code",
   "execution_count": 193,
   "metadata": {},
   "outputs": [],
   "source": [
    "chinaData=data2.loc[data2['Country/Region'] =='China']"
   ]
  },
  {
   "cell_type": "code",
   "execution_count": 148,
   "metadata": {},
   "outputs": [],
   "source": [
    "chinaTotalByDate = chinaData.groupby([\"Country/Region\"]).sum()\n"
   ]
  },
  {
   "cell_type": "code",
   "execution_count": 186,
   "metadata": {},
   "outputs": [
    {
     "data": {
      "text/html": [
       "<div>\n",
       "<style scoped>\n",
       "    .dataframe tbody tr th:only-of-type {\n",
       "        vertical-align: middle;\n",
       "    }\n",
       "\n",
       "    .dataframe tbody tr th {\n",
       "        vertical-align: top;\n",
       "    }\n",
       "\n",
       "    .dataframe thead th {\n",
       "        text-align: right;\n",
       "    }\n",
       "</style>\n",
       "<table border=\"1\" class=\"dataframe\">\n",
       "  <thead>\n",
       "    <tr style=\"text-align: right;\">\n",
       "      <th></th>\n",
       "      <th>Lat</th>\n",
       "      <th>Long</th>\n",
       "      <th>1/22/20</th>\n",
       "      <th>1/23/20</th>\n",
       "      <th>1/24/20</th>\n",
       "      <th>1/25/20</th>\n",
       "      <th>1/26/20</th>\n",
       "      <th>1/27/20</th>\n",
       "      <th>1/28/20</th>\n",
       "      <th>1/29/20</th>\n",
       "      <th>...</th>\n",
       "      <th>3/11/20</th>\n",
       "      <th>3/12/20</th>\n",
       "      <th>3/13/20</th>\n",
       "      <th>3/14/20</th>\n",
       "      <th>3/15/20</th>\n",
       "      <th>3/16/20</th>\n",
       "      <th>3/17/20</th>\n",
       "      <th>3/18/20</th>\n",
       "      <th>3/19/20</th>\n",
       "      <th>3/20/20</th>\n",
       "    </tr>\n",
       "    <tr>\n",
       "      <th>Country/Region</th>\n",
       "      <th></th>\n",
       "      <th></th>\n",
       "      <th></th>\n",
       "      <th></th>\n",
       "      <th></th>\n",
       "      <th></th>\n",
       "      <th></th>\n",
       "      <th></th>\n",
       "      <th></th>\n",
       "      <th></th>\n",
       "      <th></th>\n",
       "      <th></th>\n",
       "      <th></th>\n",
       "      <th></th>\n",
       "      <th></th>\n",
       "      <th></th>\n",
       "      <th></th>\n",
       "      <th></th>\n",
       "      <th></th>\n",
       "      <th></th>\n",
       "      <th></th>\n",
       "    </tr>\n",
       "  </thead>\n",
       "  <tbody>\n",
       "    <tr>\n",
       "      <th>China</th>\n",
       "      <td>1083.3367</td>\n",
       "      <td>3684.4197</td>\n",
       "      <td>548</td>\n",
       "      <td>643</td>\n",
       "      <td>920</td>\n",
       "      <td>1406</td>\n",
       "      <td>2075</td>\n",
       "      <td>2877</td>\n",
       "      <td>5509</td>\n",
       "      <td>6087</td>\n",
       "      <td>...</td>\n",
       "      <td>80921</td>\n",
       "      <td>80932</td>\n",
       "      <td>80945</td>\n",
       "      <td>80977</td>\n",
       "      <td>81003</td>\n",
       "      <td>81033</td>\n",
       "      <td>81058</td>\n",
       "      <td>81102</td>\n",
       "      <td>81156</td>\n",
       "      <td>81250</td>\n",
       "    </tr>\n",
       "  </tbody>\n",
       "</table>\n",
       "<p>1 rows × 61 columns</p>\n",
       "</div>"
      ],
      "text/plain": [
       "                      Lat       Long  1/22/20  1/23/20  1/24/20  1/25/20  \\\n",
       "Country/Region                                                             \n",
       "China           1083.3367  3684.4197      548      643      920     1406   \n",
       "\n",
       "                1/26/20  1/27/20  1/28/20  1/29/20  ...  3/11/20  3/12/20  \\\n",
       "Country/Region                                      ...                     \n",
       "China              2075     2877     5509     6087  ...    80921    80932   \n",
       "\n",
       "                3/13/20  3/14/20  3/15/20  3/16/20  3/17/20  3/18/20  3/19/20  \\\n",
       "Country/Region                                                                  \n",
       "China             80945    80977    81003    81033    81058    81102    81156   \n",
       "\n",
       "                3/20/20  \n",
       "Country/Region           \n",
       "China             81250  \n",
       "\n",
       "[1 rows x 61 columns]"
      ]
     },
     "execution_count": 186,
     "metadata": {},
     "output_type": "execute_result"
    }
   ],
   "source": [
    "chinaTotalByDate"
   ]
  },
  {
   "cell_type": "code",
   "execution_count": 147,
   "metadata": {},
   "outputs": [
    {
     "data": {
      "text/plain": [
       "Index(['Province/State', 'Country/Region', 'Lat', 'Long', '1/22/20', '1/23/20',\n",
       "       '1/24/20', '1/25/20', '1/26/20', '1/27/20', '1/28/20', '1/29/20',\n",
       "       '1/30/20', '1/31/20', '2/1/20', '2/2/20', '2/3/20', '2/4/20', '2/5/20',\n",
       "       '2/6/20', '2/7/20', '2/8/20', '2/9/20', '2/10/20', '2/11/20', '2/12/20',\n",
       "       '2/13/20', '2/14/20', '2/15/20', '2/16/20', '2/17/20', '2/18/20',\n",
       "       '2/19/20', '2/20/20', '2/21/20', '2/22/20', '2/23/20', '2/24/20',\n",
       "       '2/25/20', '2/26/20', '2/27/20', '2/28/20', '2/29/20', '3/1/20',\n",
       "       '3/2/20', '3/3/20', '3/4/20', '3/5/20', '3/6/20', '3/7/20', '3/8/20',\n",
       "       '3/9/20', '3/10/20', '3/11/20', '3/12/20', '3/13/20', '3/14/20',\n",
       "       '3/15/20', '3/16/20', '3/17/20', '3/18/20', '3/19/20', '3/20/20'],\n",
       "      dtype='object')"
      ]
     },
     "execution_count": 147,
     "metadata": {},
     "output_type": "execute_result"
    }
   ],
   "source": [
    "dateData = np.array(list(data2.columns[4:]))\n",
    "data2.columns"
   ]
  },
  {
   "cell_type": "code",
   "execution_count": 184,
   "metadata": {},
   "outputs": [
    {
     "name": "stdout",
     "output_type": "stream",
     "text": [
      "[  548   548   548   548   548   548   548   643   920  1406  2075  2877\n",
      "  5509  6087  8141  9802 11891 16630 19716 23707 27440 30587 34110 36814\n",
      " 39829 42354 44386 44759 59895 66358 68413 70513 72434 74211 74619 75077\n",
      " 75550 77001 77022 77241 77754 78166 78600 78928 79356 79932 80136 80261\n",
      " 80386 80537 80690 80770 80823 80860 80887 80921 80932 80945 80977 81003\n",
      " 81033 81058 81102 81156 81250 81250 81250 81250 81250 81250 81250]\n"
     ]
    }
   ],
   "source": [
    "chinaDailyCountSmoothed = np.hstack([np.repeat(chinaDailyCount[0],6),chinaDailyCount,np.repeat(chinaDailyCount[-1],6)])\n",
    "print(chinaDailyCountSmoothed)\n",
    "chinaDailyCountSmoothed = [statistics.mean(chinaDailyCountSmoothed[i-6:i]) for i in range(6,len(chinaDailyCountSmoothed)-6)]"
   ]
  },
  {
   "cell_type": "code",
   "execution_count": 185,
   "metadata": {},
   "outputs": [
    {
     "name": "stdout",
     "output_type": "stream",
     "text": [
      "[  548   643   920  1406  2075  2877  5509  6087  8141  9802 11891 16630\n",
      " 19716 23707 27440 30587 34110 36814 39829 42354 44386 44759 59895 66358\n",
      " 68413 70513 72434 74211 74619 75077 75550 77001 77022 77241 77754 78166\n",
      " 78600 78928 79356 79932 80136 80261 80386 80537 80690 80770 80823 80860\n",
      " 80887 80921 80932 80945 80977 81003 81033 81058 81102 81156 81250]\n"
     ]
    },
    {
     "data": {
      "text/plain": [
       "[<matplotlib.lines.Line2D at 0x2c56de38>]"
      ]
     },
     "execution_count": 185,
     "metadata": {},
     "output_type": "execute_result"
    },
    {
     "data": {
      "image/png": "[encoded data removed]",
      "text/plain": [
       "<Figure size 432x288 with 1 Axes>"
      ]
     },
     "metadata": {
      "needs_background": "light"
     },
     "output_type": "display_data"
    }
   ],
   "source": [
    "chinaDailyCount = chinaTotalByDate[dateData].to_numpy().reshape(len(dataDate))\n",
    "print(chinaDailyCount)\n",
    "plt.plot(dateData, chinaDailyCountSmoothed)\n"
   ]
  },
  {
   "cell_type": "code",
   "execution_count": 169,
   "metadata": {},
   "outputs": [
    {
     "data": {
      "text/plain": [
       "2"
      ]
     },
     "execution_count": 169,
     "metadata": {},
     "output_type": "execute_result"
    }
   ],
   "source": []
  },
  {
   "cell_type": "code",
   "execution_count": null,
   "metadata": {},
   "outputs": [],
   "source": []
  }
 ],
 "metadata": {
  "kernelspec": {
   "display_name": "Python 3",
   "language": "python",
   "name": "python3"
  },
  "language_info": {
   "codemirror_mode": {
    "name": "ipython",
    "version": 3
   },
   "file_extension": ".py",
   "mimetype": "text/x-python",
   "name": "python",
   "nbconvert_exporter": "python",
   "pygments_lexer": "ipython3",
   "version": "3.8.2"
  }
 },
 "nbformat": 4,
 "nbformat_minor": 4
}
